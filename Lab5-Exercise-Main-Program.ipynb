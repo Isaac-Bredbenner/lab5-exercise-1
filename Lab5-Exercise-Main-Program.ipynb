{
 "cells": [
  {
   "cell_type": "code",
   "execution_count": 13,
   "metadata": {},
   "outputs": [
    {
     "name": "stdout",
     "output_type": "stream",
     "text": [
      "Running second function (ReverseName)\n",
      "Your name backwards is nhoJ\n"
     ]
    }
   ],
   "source": [
    "import math\n",
    "\n",
    "name = input(prompt='What is your name? ')\n",
    "\n",
    "funcChosen = int(input(\"Hi, \" + name + '. What function would you like to run? Enter 1, 2, or 3'))\n",
    "\n",
    "def pythagoras(legOne, legTwo):\n",
    "    # takes two arguments\n",
    "    # treats them like the legs of a triangle\n",
    "    # and returns the hypotenuse\n",
    "    \n",
    "    return math.sqrt(int(legOne)**2 + int(legTwo)**2)\n",
    "\n",
    "def reverseName(name):\n",
    "        nameBW = \"\"\n",
    "        nameLength = len(name)\n",
    "        for i in range(nameLength-1, -1, -1):\n",
    "            nameBW = nameBW + name[i]\n",
    "        return nameBW\n",
    "\n",
    "def squareRtPlus1000(numberInput):\n",
    "    # returns the square root of your number plus 1000\n",
    "    numberSqRt = 0\n",
    "    numberSqRt = math.sqrt(int(numberInput))\n",
    "    numberSqRt = numberSqRt + 1000\n",
    "    return str(numberSqRt)\n",
    "    \n",
    "    \n",
    "    \n",
    "# put other functions before the if-branch that checks which function to run\n",
    "\n",
    "if (funcChosen == 1):\n",
    "    print(\"Running Pythagoras\")\n",
    "    #Run pythagoas\n",
    "    #Prints the result\n",
    "    legOne = input(prompt='What is the first leg of the triangle')\n",
    "    legTwo = input(prompt='What is the second leg of the triangle')\n",
    "    print(pythagoras(legOne, legTwo))\n",
    "elif (funcChosen == 2):\n",
    "    #Run reverseName\n",
    "    print(\"Running second function (ReverseName)\")\n",
    "    print(\"Your name backwards is \" + reverseName(name))\n",
    "elif (funcChosen == 3):\n",
    "    #Run third function\n",
    "    print(\"Running third function\")\n",
    "    numberInput = input(prompt=\"Please enter a number.\")\n",
    "    print(\"Your number square rooted plus 1000: \" + squareRtPlus1000(numberInput))\n",
    "\n",
    "    #replace third function with the name of the third function\n",
    "else:\n",
    "    print(\"Not a valid function\")\n",
    "\n",
    "    "
   ]
  },
  {
   "cell_type": "code",
   "execution_count": null,
   "metadata": {},
   "outputs": [],
   "source": []
  }
 ],
 "metadata": {
  "kernelspec": {
   "display_name": "Python 3",
   "language": "python",
   "name": "python3"
  },
  "language_info": {
   "codemirror_mode": {
    "name": "ipython",
    "version": 3
   },
   "file_extension": ".py",
   "mimetype": "text/x-python",
   "name": "python",
   "nbconvert_exporter": "python",
   "pygments_lexer": "ipython3",
   "version": "3.8.5"
  }
 },
 "nbformat": 4,
 "nbformat_minor": 4
}
