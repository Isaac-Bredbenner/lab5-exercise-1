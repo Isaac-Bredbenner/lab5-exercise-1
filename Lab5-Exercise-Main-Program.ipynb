{
 "cells": [
  {
   "cell_type": "code",
   "execution_count": 19,
   "metadata": {},
   "outputs": [
    {
     "name": "stdin",
     "output_type": "stream",
     "text": [
      "What is your name 4\n",
      "What function would you like to run? Enter 1, 2, or 3 4\n"
     ]
    },
    {
     "name": "stdout",
     "output_type": "stream",
     "text": [
      "Not a valid function\n"
     ]
    }
   ],
   "source": [
    "import math\n",
    "\n",
    "name = input(prompt='What is your name')\n",
    "\n",
    "funcChosen = int(input(prompt='What function would you like to run? Enter 1, 2, or 3'))\n",
    "\n",
    "def pythagoras(legOne, legTwo):\n",
    "    # takes two arguments\n",
    "    # treats them like the legs of a triangle\n",
    "    # and returns the hypotenuse\n",
    "    \n",
    "    return math.sqrt(int(legOne)**2 + int(legTwo)**2)\n",
    "\n",
    "# put other functions before the if-branch that checks which function to run\n",
    "\n",
    "if (funcChosen == 1):\n",
    "    print(\"Running Pythagoras\")\n",
    "    #Run pythagoas\n",
    "    #Prints the result\n",
    "    legOne = input(prompt='What is the first leg of the triangle')\n",
    "    legTwo = input(prompt='What is the second leg of the triangle')\n",
    "    print(pythagoras(legOne, legTwo))\n",
    "elif (funcChosen == 2):\n",
    "    #Run second function\n",
    "    print(\"Running second function\")\n",
    "    #replace second function with the name of the second function\n",
    "elif (funcChosen == 3):\n",
    "    #Run third function\n",
    "    print(\"Running third function\")\n",
    "    #replace third function with the name of the third function\n",
    "else:\n",
    "    print(\"Not a valid function\")\n",
    "\n",
    "    "
   ]
  },
  {
   "cell_type": "code",
   "execution_count": null,
   "metadata": {},
   "outputs": [],
   "source": []
  }
 ],
 "metadata": {
  "kernelspec": {
   "display_name": "Python 3",
   "language": "python",
   "name": "python3"
  },
  "language_info": {
   "codemirror_mode": {
    "name": "ipython",
    "version": 3
   },
   "file_extension": ".py",
   "mimetype": "text/x-python",
   "name": "python",
   "nbconvert_exporter": "python",
   "pygments_lexer": "ipython3",
   "version": "3.8.5"
  }
 },
 "nbformat": 4,
 "nbformat_minor": 4
}
